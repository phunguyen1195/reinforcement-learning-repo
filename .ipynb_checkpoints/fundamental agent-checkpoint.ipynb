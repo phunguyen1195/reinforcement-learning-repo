{
 "cells": [
  {
   "cell_type": "code",
   "execution_count": 1,
   "metadata": {},
   "outputs": [],
   "source": [
    "import random"
   ]
  },
  {
   "cell_type": "code",
   "execution_count": 5,
   "metadata": {},
   "outputs": [],
   "source": [
    "#this code initializes the environment's internal state.\n",
    "class Environment:\n",
    "    #in this case, the state is a counter of 10 steps where the agent is allowed to interact with the environment\n",
    "    def __init__(self):\n",
    "        self.steps_left = 10\n",
    "        \n",
    "    # this returns the current observation to the agent. in this case, observation vector is 0 which means no internal state\n",
    "    def get_observation(self):\n",
    "        return [0.0,0.0,0.0]\n",
    "    \n",
    "    # this allows the agent to query a set of actions it can excecute. In this case, we only have 2 actions that the \n",
    "    # agent is allowed to take which are encode with 0 & 1\n",
    "    def get_action(self):\n",
    "        return [0,1]\n",
    "    \n",
    "    #signal the end of an episode to the agent\n",
    "    def is_done(self):\n",
    "        return self.steps_left == 0\n",
    "    \n",
    "    # this is the central piece in the environment's class (functionality). \n",
    "    # does 2 things: 1st: handles the agent's actions & 2nd: returns rewards which in this case is random.\n",
    "    def action (self, action):\n",
    "        if self.is_done():\n",
    "            raise Exception(\"Game is over\")\n",
    "        self.steps_left -= 1\n",
    "        return random.random()"
   ]
  },
  {
   "cell_type": "code",
   "execution_count": 9,
   "metadata": {},
   "outputs": [],
   "source": [
    "# actor class\n",
    "class Agent:\n",
    "    \n",
    "    #this initialize a counter for the accumulative reward of the agent\n",
    "    def __init__ (self):\n",
    "        self.total_reward = 0.0\n",
    "        \n",
    "    #this function is central for the agent which takes in the environment as an argument.\n",
    "    # it does 4 things: 1st: observe the environment, 2nd: make decision based on the observation\n",
    "    # 3rd: submit decision, 4th: get reward back.\n",
    "    def step (self, env):\n",
    "        current_obs = env.get_observation()\n",
    "        actions = env.get_action()\n",
    "        reward = env.action(random.choice(actions))\n",
    "        self.total_reward += reward\n",
    "        \n",
    "    \n",
    "        "
   ]
  },
  {
   "cell_type": "code",
   "execution_count": 16,
   "metadata": {},
   "outputs": [
    {
     "name": "stdout",
     "output_type": "stream",
     "text": [
      "Total reward got: 4.8411\n"
     ]
    }
   ],
   "source": [
    "if __name__ == \"__main__\":\n",
    "    env = Environment()\n",
    "    agent = Agent()\n",
    "    \n",
    "    while not env.is_done():\n",
    "        agent.step(env)\n",
    "        \n",
    "    print (\"Total reward got: %.4f\" % agent.total_reward)"
   ]
  },
  {
   "cell_type": "code",
   "execution_count": null,
   "metadata": {},
   "outputs": [],
   "source": []
  },
  {
   "cell_type": "code",
   "execution_count": null,
   "metadata": {},
   "outputs": [],
   "source": []
  }
 ],
 "metadata": {
  "kernelspec": {
   "display_name": "Python (rlearning)",
   "language": "python",
   "name": "rlearning"
  },
  "language_info": {
   "codemirror_mode": {
    "name": "ipython",
    "version": 3
   },
   "file_extension": ".py",
   "mimetype": "text/x-python",
   "name": "python",
   "nbconvert_exporter": "python",
   "pygments_lexer": "ipython3",
   "version": "3.7.4"
  }
 },
 "nbformat": 4,
 "nbformat_minor": 2
}
